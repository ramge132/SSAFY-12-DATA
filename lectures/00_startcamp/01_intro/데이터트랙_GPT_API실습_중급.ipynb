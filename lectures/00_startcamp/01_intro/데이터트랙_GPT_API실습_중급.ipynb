{
  "cells": [
    {
      "cell_type": "markdown",
      "metadata": {},
      "source": [
        "**스타트캠프 교육 자료 저작권 및 사용 제한 안내**\n",
        "- `스타트캠프 교육 자료의 모든 권리는 저작권자에게 있습니다.`\n",
        "- `이 자료는 동의없이 외부로 유출하거나 개인적인 용도로 영리적인 목적을 위해 사용할 수 없습니다.`"
      ]
    },
    {
      "cell_type": "markdown",
      "metadata": {
        "id": "IU0xfmeuPWEq"
      },
      "source": [
        "## GPT 3.5버전 API 실습 [Tool 만들기]\n",
        "### Tool 기능이란?\n",
        "+ GPT 모델의 기본 언어 생성 기능 외에 특정 작업을 수행하기 위해 특별히 설계된 도구를 사용할 수 있도록 해주는 확장 기능. ex) 이미지 생성, 인터넷 검색, 파이썬 코드 실행 등\n",
        "+ GPT 모델은 특정 작업에 대해 더 정확하고 유용한 결과를 제공"
      ]
    },
    {
      "cell_type": "markdown",
      "metadata": {
        "id": "BO_18U8dQ7Wx"
      },
      "source": [
        "### 1. 실시간 기상 정보를 알려주는 chatbot 만들기\n",
        "+ 날씨 호출 tool 만들기\n"
      ]
    },
    {
      "cell_type": "code",
      "execution_count": null,
      "metadata": {
        "id": "tU6HQab8RS_b"
      },
      "outputs": [],
      "source": [
        "# 필요 라이브러리 설치\n",
        "!pip install openai\n",
        "\n",
        "#API-KEY 설정\n",
        "OPENAI_API_KEY = \"OPENAI_API_KEY\"\n",
        "GPT_MODEL = 'gpt-3.5-turbo'"
      ]
    },
    {
      "cell_type": "code",
      "execution_count": null,
      "metadata": {
        "id": "pOUEmEydPB7Q"
      },
      "outputs": [],
      "source": [
        "import json\n",
        "from openai import OpenAI\n",
        "\n",
        "client = OpenAI(api_key=OPENAI_API_KEY)\n",
        "\n",
        "#GPT API호출 및 응답 가져오기\n",
        "def chat_completion_request(messages, tools=None, tool_choice=None, model=GPT_MODEL):\n",
        "    try:\n",
        "        response = client.chat.completions.create(\n",
        "            model=model,\n",
        "            messages=messages,\n",
        "            tools=tools,\n",
        "            tool_choice=tool_choice,\n",
        "        )\n",
        "        return response\n",
        "    except Exception as e:\n",
        "        print(\"Unable to generate ChatCompletion response\")\n",
        "        print(f\"Exception: {e}\")\n",
        "        return e\n"
      ]
    },
    {
      "cell_type": "code",
      "execution_count": null,
      "metadata": {
        "id": "-sjlGY0zR-VC"
      },
      "outputs": [],
      "source": [
        "#Tool 선언\n",
        "tools = [\n",
        "    {\n",
        "        \"type\": \"function\",\n",
        "        \"function\": {\n",
        "            \"name\": \"get_current_weather\",                #함수 이름\n",
        "            \"description\": \"현재 날씨 정보를 가져옵니다\", #함수 설명\n",
        "            \"parameters\": {                               #함수 파라미터 지정\n",
        "                \"type\": \"object\",\n",
        "                \"properties\": {\n",
        "                    \"location\": {                         #파라미터 명\n",
        "                        \"type\": \"string\",                 #파라미터 타입\n",
        "                        \"description\": \"도시 또는 지역을 입력하세요, 예: 서울, 충청도\", #파라미터 설명 및 예시\n",
        "                    },\n",
        "                    \"unit\": {\n",
        "                        \"type\": \"string\",\n",
        "                        \"enum\": [\"celsius\", \"fahrenheit\"],\n",
        "                        \"description\": \"사용할 온도 단위를 입력하세요. 사용자의 위치에 따라 추론됩니다.\",\n",
        "                    },\n",
        "                },\n",
        "                \"required\": [\"location\", \"unit\"],         #필수 파라미터 지정\n",
        "            },\n",
        "        }\n",
        "    },\n",
        "    {\n",
        "\n",
        "        '''\n",
        "        ************************\n",
        "        ** 실습 : 아래 필요한 코드 작성   **\n",
        "        ************************\n",
        "        '''\n",
        "        \"type\": \"function\",\n",
        "        \"function\": {\n",
        "            \"name\": \"\",\n",
        "            \"description\": \"\",\n",
        "            \"parameters\": {\n",
        "                \"type\": \"object\",\n",
        "                \"properties\": {\n",
        "\n",
        "                },\n",
        "                \"required\": []\n",
        "            },\n",
        "        }\n",
        "    },\n",
        "]\n",
        "\n",
        "#함수 구현 (원래는 날씨 API호출 해야하지만 편의상 랜덤하게 지정)\n",
        "import random\n",
        "\n",
        "def get_n_day_weather_forecast(location, unit, num_days):\n",
        "\n",
        "    weather_conditions = [\"맑음\", \"흐림\", \"비\", \"눈\", \"안개\", \"폭풍\"]\n",
        "    forecasts = []\n",
        "\n",
        "    for day in range(1, num_days+1):\n",
        "        weather = random.choice(weather_conditions)\n",
        "        temperature = round(random.uniform(-10, 35), 1) if unit == \"celsius\" else round(random.uniform(14, 95), 1)\n",
        "        forecasts.append({\"일차\": day, \"날씨\": weather, \"기온\": temperature, \"단위\": unit})\n",
        "\n",
        "    return str(forecasts)\n",
        "\n",
        "def get_current_weather(location, unit):\n",
        "\n",
        "    weather_conditions = [\"맑음\", \"흐림\", \"비\", \"눈\", \"안개\", \"폭풍\"]\n",
        "    weather = random.choice(weather_conditions)\n",
        "    temperature = round(random.uniform(-10, 35), 1) if unit == \"celsius\" else round(random.uniform(14, 95), 1)\n",
        "\n",
        "    return str({\"날씨\": weather, \"기온\": temperature, \"단위\": unit})\n",
        "\n",
        "# 예시 호출\n",
        "print(get_n_day_weather_forecast(\"서울\", \"celsius\", 5))\n",
        "print(get_current_weather(\"대전\", \"fahrenheit\"))\n"
      ]
    },
    {
      "cell_type": "markdown",
      "metadata": {
        "id": "inpUoy9B70CG"
      },
      "source": [
        "+ 프롬프트에 따라 어떤 Tool이 호출되는지 확인"
      ]
    },
    {
      "cell_type": "code",
      "execution_count": null,
      "metadata": {
        "id": "U4r8UijEUBdP"
      },
      "outputs": [],
      "source": [
        "\n",
        "messages = []\n",
        "\n",
        "messages.append({\"role\": \"system\", \"content\": \"사용할 함수의 값에 대해 추측하지 마세요. 사용자의 요청이 모호한 경우 명확히 물어보세요.\"})\n",
        "messages.append({\"role\": \"user\", \"content\": \"오늘 날씨 어때?\"})\n",
        "chat_response = chat_completion_request(\n",
        "    messages, tools=tools\n",
        ")\n",
        "assistant_message = chat_response.choices[0].message\n",
        "print(assistant_message)\n"
      ]
    },
    {
      "cell_type": "code",
      "execution_count": null,
      "metadata": {
        "id": "BF5pav_rVf2y"
      },
      "outputs": [],
      "source": [
        "messages = []\n",
        "messages.append({\"role\": \"system\", \"content\": \"사용할 함수의 값에 대해 추측하지 마세요. 사용자의 요청이 모호한 경우 명확히 물어보세요.\"})\n",
        "messages.append({\"role\": \"user\", \"content\": \"서울 날씨 알고싶어.\"})\n",
        "chat_response = chat_completion_request(\n",
        "    messages, tools=tools\n",
        ")\n",
        "assistant_message = chat_response.choices[0].message\n",
        "messages.append(assistant_message)\n",
        "print(assistant_message)\n"
      ]
    },
    {
      "cell_type": "code",
      "execution_count": null,
      "metadata": {
        "id": "8hhBhvygVq9T"
      },
      "outputs": [],
      "source": [
        "messages = []\n",
        "messages.append({\"role\": \"system\", \"content\": \"사용할 함수의 값에 대해 추측하지 마세요. 사용자의 요청이 모호한 경우 명확히 물어보세요.\"})\n",
        "messages.append({\"role\": \"user\", \"content\": \"대전 5일간 날씨는 어때?\"})\n",
        "chat_response = chat_completion_request(\n",
        "    messages, tools=tools\n",
        ")\n",
        "assistant_message = chat_response.choices[0].message\n",
        "messages.append(assistant_message)\n",
        "print(assistant_message)\n"
      ]
    },
    {
      "cell_type": "markdown",
      "metadata": {
        "id": "M3BPlwcR78E6"
      },
      "source": [
        "+ 날씨 정보를 제공하는 챗봇"
      ]
    },
    {
      "cell_type": "code",
      "execution_count": null,
      "metadata": {
        "id": "LJKUvzFOWmbq"
      },
      "outputs": [],
      "source": [
        "from openai import OpenAI\n",
        "client = OpenAI(api_key=OPENAI_API_KEY)\n",
        "\n",
        "messages = [\n",
        "\n",
        "    {\"role\": \"system\", \"content\": \"당신은 사용자 질문에 답변하는 챗봇입니다.\"},\n",
        "    {\"role\": \"system\", \"content\": \"사용할 함수의 값에 대해 추측하지 마세요. 사용자의 요청이 모호한 경우 명확히 물어보세요.\"},\n",
        "    {\"role\": \"system\", \"content\": \"함수 호출이 아닌 답변의 경우 사용자가 읽기 쉽도록 마크다운 형태로 정리해서 출력하세요.\"},\n",
        "]\n",
        "\n",
        "\n",
        "# '종료' 입력 전까지 대화\n",
        "user_input = ''\n",
        "while True:\n",
        "    user_input = input(\"You: \")\n",
        "    if \"종료\" in user_input : break\n",
        "    messages.append({\"role\": \"user\", \"content\": user_input})\n",
        "\n",
        "    chat_response = chat_completion_request(messages, tools)\n",
        "\n",
        "    # 1단계: 함수 호출로 이어질 수 있는 내용을 포함한 프롬프트\n",
        "    # 이 경우, 모델은 사용자가 요청한 질문이 설정한 도구 설명에 부합되는지 확인 후 해당 함수 호출.\n",
        "    assistant_message = chat_response.choices[0].message\n",
        "    messages.append(assistant_message)\n",
        "\n",
        "    # 2단계: 모델의 응답에 도구 호출이 포함되어 있는지 확인합니다.\n",
        "    if assistant_message.tool_calls :\n",
        "        for msg in assistant_message.tool_calls :\n",
        "          # 3단계: 함수를 호출하고 결과를 얻습니다. 결과를 messages 리스트에 추가합니다.\n",
        "          if \"function\" in msg.type:\n",
        "              tool_id = msg.id  #함수 이름\n",
        "              function_call = msg.function #함수 정보 가져오기\n",
        "              function_name = function_call.name  #함수 이름\n",
        "              function_args = json.loads(function_call.arguments) #함수 파라미터\n",
        "\n",
        "              # 실제 함수 호출\n",
        "              if function_name == \"get_n_day_weather_forecast\":\n",
        "                  result = get_n_day_weather_forecast(**function_args)\n",
        "                  # print(\"get_n_day_weather_forecast 호출했습니다.\", result)\n",
        "\n",
        "              elif function_name == \"get_current_weather\":\n",
        "                  result = get_current_weather(**function_args)\n",
        "                  # print(\"get_current_weather 호출했습니다.\", result)\n",
        "              messages.append({\n",
        "                  \"role\": \"tool\",\n",
        "                  \"tool_call_id\": tool_id,\n",
        "                  \"name\": function_name,\n",
        "                  \"content\": result\n",
        "              })\n",
        "        # 4단계: 함수 응답이 추가된 messages 리스트로 GPT API를 호출합니다.\n",
        "        # tool_calls이 호출되면 반드시 해당 id에 대한 응답이 필요합니다.\n",
        "        chat_response = chat_completion_request(messages)\n",
        "\n",
        "    #결과 출력\n",
        "    assistant_reply = chat_response.choices[0].message.content\n",
        "    messages.append({\"role\": \"assistant\", \"content\": assistant_reply})\n",
        "    print(f\"Assistant: {assistant_reply}\")"
      ]
    },
    {
      "cell_type": "markdown",
      "metadata": {
        "id": "P8Gq3Ex5OLBO"
      },
      "source": [
        "---"
      ]
    },
    {
      "cell_type": "markdown",
      "metadata": {
        "id": "-nqTcTXohSxZ"
      },
      "source": [
        "### 2. 데이터베이스 분석해주는 chatbot 만들기\n",
        "+ sqlite 샘플 DB 다운로드 : https://www.sqlitetutorial.net/sqlite-sample-database/\n",
        "![image.png](data:image/png;base64,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)\n",
        "+ DB 파일 경로 : /content/data/chinook.db"
      ]
    },
    {
      "cell_type": "markdown",
      "metadata": {
        "id": "BwllauZKf1xg"
      },
      "source": [
        "+ 실습\n",
        "  1. DB내의 모든 테이블의 스키마 추출 (Tool의 설명 부분을 작성하기 위함)\n",
        "  2. 프롬프트에 따라 어떤 SQL을 GPT가 생성하는지 확인\n",
        "  3. GPT가 생성한 SQL Query를 DB에 요청하여 정보를 가져온 후 해당 내용을 GPT의 입력으로 넣고 질문에 대한 응답 받기\n",
        "  4. DB내용을 토대로 답변하는 챗봇과 대화하기\n",
        "    + 예시 프롬프트\n",
        "      + 고객이 몇명이야?\n",
        "      + 각 테이블별 정보에 대해 알려줘\n",
        "      + 고객별 앨범 총 구매액을 리스트 형태로 반환해줘. 총구매액이 높은 순으로 정렬해서 출력해야해줘."
      ]
    },
    {
      "cell_type": "code",
      "execution_count": null,
      "metadata": {
        "id": "g5pqAAjahwr1"
      },
      "outputs": [],
      "source": [
        "#구글 드라이브 마운트\n",
        "from google.colab import drive\n",
        "drive.mount('/content/drive')"
      ]
    },
    {
      "cell_type": "markdown",
      "metadata": {
        "id": "ZlH83OHi8pTV"
      },
      "source": [
        "+ DB내의 모든 테이블 스키마 추출"
      ]
    },
    {
      "cell_type": "code",
      "execution_count": null,
      "metadata": {
        "id": "1lnPCuMliRrw"
      },
      "outputs": [],
      "source": [
        "import sqlite3\n",
        "from pprint import pprint\n",
        "\n",
        "conn = sqlite3.connect(\"/content/drive/MyDrive/chinook.db\")\n",
        "print(\"Opened database successfully\")\n",
        "\n",
        "def get_table_names(conn):\n",
        "    \"\"\"DB의 테이블 이름 조회\"\"\"\n",
        "    table_names = []\n",
        "    tables = conn.execute(\"SELECT name FROM sqlite_master WHERE type='table';\")\n",
        "    for table in tables.fetchall():\n",
        "        table_names.append(table[0])\n",
        "    return table_names\n",
        "\n",
        "# def get_table_schema(conn, table_name):\n",
        "\n",
        "\n",
        "def get_table_schema(conn, table_name):\n",
        "    \"\"\"테이블의 스키마 정보 조회\"\"\"\n",
        "    column_info = []\n",
        "    schema = conn.execute(f\"PRAGMA table_info('{table_name}');\").fetchall()\n",
        "    for col in schema :\n",
        "      column_info.append({'name':col[1], 'dtype':col[2], 'pk':col[-1]})\n",
        "    return column_info\n",
        "\n",
        "\n",
        "def get_database_info(conn):\n",
        "    \"\"\"DB의 모든 테이블에 대한 스키마 정보 요약\"\"\"\n",
        "    table_dicts = []\n",
        "    for table_name in get_table_names(conn):\n",
        "        columns_names = get_table_schema(conn, table_name)\n",
        "        table_dicts.append({\"table_name\": table_name, \"column_info\": columns_names})\n",
        "    return table_dicts\n",
        "\n",
        "\n",
        "database_schema_dict = get_database_info(conn)\n",
        "pprint(database_schema_dict)\n",
        "#데이터베이스 모든 테이블 스키마 문자열로 얻기\n",
        "database_schema_string = \"\\n\".join([f'{table}' for table in database_schema_dict])"
      ]
    },
    {
      "cell_type": "markdown",
      "metadata": {
        "id": "8Dt_nyTI8uHl"
      },
      "source": [
        "+ DB Tool 정의\n",
        "> query파라미터의 description에 데이터베이스 내의 모든 테이블 스키마를 입력함으로써 GPT에게 DB정보 제공"
      ]
    },
    {
      "cell_type": "code",
      "execution_count": null,
      "metadata": {
        "id": "SLFgTEDPlTJc"
      },
      "outputs": [],
      "source": [
        "#TOOL 및 함수 정의\n",
        "\n",
        "tools = [\n",
        "    {\n",
        "        \"type\": \"function\",\n",
        "        \"function\": {\n",
        "            \"name\": \"ask_database\",\n",
        "            \"description\": \"앨범 매출 데이터베이스에 대한 사용자의 질문에 답하기 위해 이 함수를 사용하세요. 입력은 완전한 SQL 쿼리여야 합니다.\",\n",
        "            \"parameters\": {\n",
        "                \"type\": \"object\",\n",
        "                \"properties\": {\n",
        "                    \"query\": {\n",
        "                        \"type\": \"string\",\n",
        "                        \"description\": f\"\"\"\n",
        "                                사용자의 질문에 답하기 위해 정보를 추출하는 SQL 쿼리.\n",
        "                                SQL은 다음 데이터베이스 스키마를 사용하여 작성해야 합니다:\n",
        "                                {database_schema_string}\n",
        "                                쿼리는 JSON이 아닌 일반 텍스트로 반환되어야 합니다.\n",
        "                                \"\"\",\n",
        "                    }\n",
        "                },\n",
        "                \"required\": [\"query\"],\n",
        "            },\n",
        "        }\n",
        "    }\n",
        "]\n",
        "\n",
        "def ask_database(conn, query):\n",
        "    \"\"\"제공된 SQL 쿼리로 SQLite 데이터베이스를 질의하는 함수입니다.\"\"\"\n",
        "    try:\n",
        "        results = str(conn.execute(query).fetchall())\n",
        "    except Exception as e:\n",
        "        results = f\"쿼리 실행 중 오류 발생: {e}\"\n",
        "\n",
        "    # print(query, results)\n",
        "    return results"
      ]
    },
    {
      "cell_type": "markdown",
      "metadata": {
        "id": "-WDtk9Jj84e6"
      },
      "source": [
        "+ 프롬프트에 따라 어떤 SQL을 GPT가 생성하는지 확인"
      ]
    },
    {
      "cell_type": "code",
      "execution_count": null,
      "metadata": {
        "id": "0yV6UgznmDYO"
      },
      "outputs": [],
      "source": [
        "# 1단계: 함수 호출로 이어질 수 있는 내용을 포함한 프롬프트\n",
        "# 이 경우, 모델은 사용자가 요청한 정보가 도구 설명에 전달된 데이터베이스 스키마를 통해 필요한 정보를 취합하여 쿼리를 생성합니다.\n",
        "messages = [{\n",
        "    \"role\": \"user\",\n",
        "    \"content\": \"가장 많은 액수로 앨범을 사간 고객은 누구인가요? 액수와 함께 출력해주세요.\"\n",
        "}]\n",
        "\n",
        "chat_response = chat_completion_request(messages, tools)\n",
        "assistant_message = chat_response.choices[0].message\n",
        "messages.append(assistant_message)\n",
        "print(assistant_message.tool_calls[0].function.arguments)  #생성한 SQL"
      ]
    },
    {
      "cell_type": "markdown",
      "metadata": {
        "id": "spZ5K5DL8_9u"
      },
      "source": [
        "+ GPT가 생성한 SQL Query를 DB에 요청하여 정보를 가져온 후 해당 내용을 GPT의 입력으로 넣고 질문에 대한 응답 받기"
      ]
    },
    {
      "cell_type": "code",
      "execution_count": null,
      "metadata": {
        "id": "PZ39BI5kmyg6"
      },
      "outputs": [],
      "source": [
        "# 2단계: 모델의 응답에 도구 호출이 포함되어 있는지 확인합니다.\n",
        "tool_calls = assistant_message.tool_calls\n",
        "if tool_calls:\n",
        "    # true인 경우 모델은 호출할 도구/함수의 이름과 인수(들)를 반환합니다.\n",
        "    tool_call_id = tool_calls[0].id\n",
        "    tool_function_name = tool_calls[0].function.name\n",
        "    tool_query_string = json.loads(tool_calls[0].function.arguments)['query']\n",
        "\n",
        "    # 3단계: 함수를 호출하고 결과를 얻습니다. 결과를 messages 리스트에 추가합니다.\n",
        "    if tool_function_name == 'ask_database':\n",
        "        results = ask_database(conn, tool_query_string)\n",
        "\n",
        "        messages.append({\n",
        "            \"role\": \"tool\",\n",
        "            \"tool_call_id\": tool_call_id,\n",
        "            \"name\": tool_function_name,\n",
        "            \"content\": results\n",
        "        })\n",
        "\n",
        "        # 4단계: 함수 응답이 추가된 messages 리스트로 GPT API를 호출합니다.\n",
        "        # tool_calls이 호출되면 반드시 해당 id에 대한 응답이 필요합니다.\n",
        "        model_response_with_function_call = chat_completion_request(messages)\n",
        "        print(\"Assistant:\", model_response_with_function_call.choices[0].message.content)\n",
        "    else:\n",
        "        print(f\"오류: 함수 {tool_function_name}이 존재하지 않습니다\")\n",
        "else:\n",
        "    # 모델이 호출할 함수를 식별하지 못한 경우 결과를 사용자에게 반환\n",
        "    print(chat_response.content)"
      ]
    },
    {
      "cell_type": "markdown",
      "metadata": {
        "id": "2iZVTIIp8hWh"
      },
      "source": [
        "+ DB내용을 토대로 답변하는 챗봇\n",
        "+ 예시 프롬프트 :\n",
        "    + 고객이 몇명이야?\n",
        "    + 각 테이블별 정보에 대해 알려줘\n",
        "    + 고객별 앨범 총 구매액을 리스트 형태로 반환해줘. 총구매액이 높은 순으로 정렬해서 출력해야해줘."
      ]
    },
    {
      "cell_type": "code",
      "execution_count": null,
      "metadata": {
        "id": "ViQhzIGwpmll"
      },
      "outputs": [],
      "source": [
        "messages = [\n",
        "    {\"role\": \"system\", \"content\": \"당신은 사용자 질문에 답변하는 챗봇입니다.\"},\n",
        "    {\"role\": \"system\", \"content\": \"데이터베이스 및 음악 앨범 관련 질의가 있는 경우 관련 함수를 호출하세요.\"},\n",
        "    {\"role\": \"system\", \"content\": \"함수 호출이 아닌 답변의 경우 사용자가 읽기 쉽도록 마크다운 형태로 정리해서 출력하세요.\"},\n",
        "]\n",
        "\n",
        "# '종료' 입력 전까지 대화\n",
        "user_input = ''\n",
        "while True:\n",
        "    user_input = input(\"You: \")\n",
        "    if \"종료\" in user_input : break\n",
        "    messages.append({\"role\": \"user\", \"content\": user_input})\n",
        "\n",
        "    chat_response = chat_completion_request(messages, tools)\n",
        "\n",
        "    assistant_message = chat_response.choices[0].message\n",
        "    messages.append(assistant_message)\n",
        "    # 함수 호출 정보 파싱\n",
        "    if assistant_message.tool_calls :\n",
        "        for msg in assistant_message.tool_calls :\n",
        "          if \"function\" in msg.type:\n",
        "              tool_id = msg.id  #함수 이름\n",
        "              function_call = msg.function #함수 정보 가져오기\n",
        "              function_name = function_call.name  #함수 이름\n",
        "              function_args = json.loads(function_call.arguments)['query'] #함수 파라미터\n",
        "\n",
        "              # 실제 함수 호출\n",
        "              if function_name == \"ask_database\":\n",
        "                  result = ask_database(conn, function_args)\n",
        "\n",
        "              messages.append({\n",
        "                  \"role\": \"tool\",\n",
        "                  \"tool_call_id\": tool_id,\n",
        "                  \"name\": function_name,\n",
        "                  \"content\": result\n",
        "              })\n",
        "        chat_response = chat_completion_request(messages)\n",
        "\n",
        "    #결과 출력\n",
        "    assistant_reply = chat_response.choices[0].message.content\n",
        "    messages.append({\"role\": \"assistant\", \"content\": assistant_reply})\n",
        "    print(f\"Assistant: {assistant_reply}\")"
      ]
    }
  ],
  "metadata": {
    "colab": {
      "provenance": []
    },
    "kernelspec": {
      "display_name": "Python 3",
      "name": "python3"
    },
    "language_info": {
      "name": "python"
    }
  },
  "nbformat": 4,
  "nbformat_minor": 0
}
